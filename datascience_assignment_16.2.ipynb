{
 "cells": [
  {
   "cell_type": "markdown",
   "metadata": {},
   "source": [
    "## Find the variance for the following set of data representing trees in California (heights in feet):\n",
    "3, 21, 98, 203, 17, 9\n",
    "\n",
    "## Solution:\n",
    "* Write a function variance which takes list/tuple which returns variance with Bessel's correction. Note I have assumed the data reprenting samples of population of trees in California, that is why Bessel's correction is needed\n",
    "* The function variance first calculates mean\n",
    "* From each element subtract mean and square it and sum the whole resultant elements, which is divided by (No of elements - 1) to get the variance with Bessel's correction"
   ]
  },
  {
   "cell_type": "code",
   "execution_count": 5,
   "metadata": {},
   "outputs": [],
   "source": [
    "import functools\n",
    "import math\n",
    "def variance(element_list):\n",
    "    # Input element_list must be either tuple or list else ValueError is raised\n",
    "    if ( not isinstance(element_list, tuple)) and ( not isinstance(element_list, list)):\n",
    "        raise ValueError(\"element_list must be either list or tuple\")  \n",
    "        \n",
    "     # Input element_list should not be None or empty else ValueError is raised\n",
    "    if element_list is None or len(element_list) == 0:\n",
    "        raise ValueError(\"element_list can not be empty\")\n",
    "        \n",
    "    # If number of elements is 1 return 0     \n",
    "    if len(element_list) == 1:\n",
    "        return 0\n",
    "    \n",
    "    # Caculate mean by using reduce function with lambda expresssion as sum of two numbers\n",
    "    # divide by number of elements\n",
    "    mean = functools.reduce(lambda x,y: x+y, element_list)/len(element_list)\n",
    "    \n",
    "    # From each element subtract mean and square it and sum the whole resultant elements, which is divided by (No of elements - 1)\n",
    "    #  to calculate variance with Bessel's correction \n",
    "    result = sum([(x - mean) ** 2 for x in element_list]) / (len(element_list) - 1)\n",
    "    return result"
   ]
  },
  {
   "cell_type": "code",
   "execution_count": 6,
   "metadata": {},
   "outputs": [
    {
     "name": "stdout",
     "output_type": "stream",
     "text": [
      "standard deviation = 6219.9 square feet\n"
     ]
    }
   ],
   "source": [
    "element_list  = [3, 21, 98, 203, 17, 9]\n",
    "res = variance(element_list)\n",
    "print(\"standard deviation = \" + str(res) + \" square feet\")"
   ]
  },
  {
   "cell_type": "code",
   "execution_count": null,
   "metadata": {},
   "outputs": [],
   "source": []
  }
 ],
 "metadata": {
  "kernelspec": {
   "display_name": "Python 3",
   "language": "python",
   "name": "python3"
  },
  "language_info": {
   "codemirror_mode": {
    "name": "ipython",
    "version": 3
   },
   "file_extension": ".py",
   "mimetype": "text/x-python",
   "name": "python",
   "nbconvert_exporter": "python",
   "pygments_lexer": "ipython3",
   "version": "3.6.4"
  }
 },
 "nbformat": 4,
 "nbformat_minor": 2
}
